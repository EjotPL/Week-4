{
 "cells": [
  {
   "cell_type": "code",
   "execution_count": 359,
   "id": "95a01110",
   "metadata": {},
   "outputs": [],
   "source": [
    "import numpy as np\n",
    "import glob\n",
    "import cv2\n",
    "from sklearn.linear_model import LinearRegression\n",
    "from flask import Flask, jsonify, request\n",
    "from joblib import load\n",
    "from joblib import dump\n",
    "from reportlab.lib import colors\n",
    "from reportlab.lib.pagesizes import letter\n",
    "from reportlab.lib.styles import getSampleStyleSheet\n",
    "from reportlab.lib.units import inch\n",
    "from reportlab.platypus import SimpleDocTemplate, Paragraph, Spacer, Table, TableStyle, Image"
   ]
  },
  {
   "cell_type": "code",
   "execution_count": 360,
   "id": "f5e39e8c",
   "metadata": {},
   "outputs": [],
   "source": [
    "# Generate toy data\n",
    "np.random.seed(42)\n",
    "num_samples = 100\n",
    "hours_studied = np.random.uniform(low=0.0, high=10.0, size=num_samples)\n",
    "exam_scores = 2.0 * hours_studied + np.random.normal(loc=0.0, scale=1.0, size=num_samples)"
   ]
  },
  {
   "cell_type": "code",
   "execution_count": 361,
   "id": "b8d167d6",
   "metadata": {},
   "outputs": [],
   "source": [
    "# Save data to file\n",
    "np.savetxt('toy_data.csv', np.column_stack((hours_studied, exam_scores)), delimiter=',', header='Hours Studied, Exam Score', comments='')"
   ]
  },
  {
   "cell_type": "code",
   "execution_count": 362,
   "id": "e8e301b6",
   "metadata": {},
   "outputs": [],
   "source": [
    "# Load data from file\n",
    "data = np.loadtxt('toy_data.csv', delimiter=',', skiprows=1)"
   ]
  },
  {
   "cell_type": "code",
   "execution_count": 363,
   "id": "24b1e647",
   "metadata": {},
   "outputs": [],
   "source": [
    "# Split data into features and target\n",
    "X = data[:, 0].reshape(-1, 1)\n",
    "y = data[:, 1]"
   ]
  },
  {
   "cell_type": "code",
   "execution_count": 364,
   "id": "94eee076",
   "metadata": {},
   "outputs": [
    {
     "data": {
      "text/plain": [
       "LinearRegression()"
      ]
     },
     "execution_count": 364,
     "metadata": {},
     "output_type": "execute_result"
    }
   ],
   "source": [
    "# Train linear regression model\n",
    "model = LinearRegression()\n",
    "model.fit(X, y)"
   ]
  },
  {
   "cell_type": "code",
   "execution_count": 365,
   "id": "415bf8e4",
   "metadata": {},
   "outputs": [
    {
     "data": {
      "text/plain": [
       "['linear_regression.joblib']"
      ]
     },
     "execution_count": 365,
     "metadata": {},
     "output_type": "execute_result"
    }
   ],
   "source": [
    "# Save model to file\n",
    "dump(model, 'linear_regression.joblib')"
   ]
  },
  {
   "cell_type": "code",
   "execution_count": 366,
   "id": "9c9dee4d",
   "metadata": {},
   "outputs": [],
   "source": [
    "# Load trained model\n",
    "model = load('linear_regression.joblib')"
   ]
  },
  {
   "cell_type": "code",
   "execution_count": 480,
   "id": "f6b9e946",
   "metadata": {},
   "outputs": [],
   "source": [
    "# Define data for PDF\n",
    "name = \"Patryk Potocki\"\n",
    "batch_code = \"1991\"\n",
    "submission_date = \"2023-04-24\"\n",
    "submitted_to = \"Data Glacier\""
   ]
  },
  {
   "cell_type": "code",
   "execution_count": 481,
   "id": "c43d4ef7",
   "metadata": {},
   "outputs": [],
   "source": [
    "# Define styles for PDF\n",
    "styles = getSampleStyleSheet()\n",
    "style_bold = styles[\"Heading1\"]\n",
    "style_normal = styles[\"Normal\"]"
   ]
  },
  {
   "cell_type": "code",
   "execution_count": 482,
   "id": "731369d3",
   "metadata": {},
   "outputs": [],
   "source": [
    "# Define content for PDF\n",
    "content = []"
   ]
  },
  {
   "cell_type": "code",
   "execution_count": 483,
   "id": "ff7978cd",
   "metadata": {},
   "outputs": [],
   "source": [
    "# Add title\n",
    "content.append(Paragraph(\"Deployment Report\", style_bold))\n",
    "content.append(Spacer(1, 0.2 * inch))"
   ]
  },
  {
   "cell_type": "code",
   "execution_count": 484,
   "id": "25c0938e",
   "metadata": {},
   "outputs": [],
   "source": [
    "# Add personal information\n",
    "content.append(Paragraph(\"Name: {}\".format(name), style_normal))\n",
    "content.append(Paragraph(\"Batch Code: {}\".format(batch_code), style_normal))\n",
    "content.append(Paragraph(\"Submission Date: {}\".format(submission_date), style_normal))\n",
    "content.append(Paragraph(\"Submitted To: {}\".format(submitted_to), style_normal))\n",
    "content.append(Spacer(1, 0.2 * inch))"
   ]
  },
  {
   "cell_type": "code",
   "execution_count": 485,
   "id": "9e9807ce",
   "metadata": {},
   "outputs": [],
   "source": [
    "# Add section for each step\n",
    "content.append(Paragraph(\"Step 1: Toy Data Generation\", style_bold))\n",
    "content.append(Spacer(1, 0.2 * inch))\n",
    "content.append(Paragraph(\"The toy data was generated using the following code:\", style_normal))\n",
    "content.append(Spacer(1, 0.1 * inch))\n",
    "content.append(Paragraph(\"<<Toy_data.csv>>\", style_normal))\n",
    "content.append(Spacer(1, 0.2 * inch))\n",
    "content.append(Paragraph(\"The resulting dataset was saved to a CSV file called `toy_data.csv`.\", style_normal))\n",
    "content.append(Spacer(1, 0.5 * inch))\n",
    "\n",
    "content.append(Paragraph(\"Step 2: Model Training\", style_bold))\n",
    "content.append(Spacer(1, 0.2 * inch))\n",
    "content.append(Paragraph(\"The linear regression model was trained using scikit-learn:\", style_normal))\n",
    "content.append(Spacer(1, 0.1 * inch))\n",
    "content.append(Paragraph(\"<<linear_regression.joblibT>>\", style_normal))\n",
    "content.append(Spacer(1, 0.2 * inch))\n",
    "content.append(Paragraph(\"The trained model was saved to a file called `linear_regression.joblib`.\", style_normal))\n",
    "content.append(Spacer(1, 0.5 * inch))\n",
    "\n",
    "content.append(Paragraph(\"Step 3: Model Deployment\", style_bold))\n",
    "content.append(Spacer(1, 0.2 * inch))\n",
    "content.append(Paragraph(\"The Flask app was created using the following code:\", style_normal))\n",
    "content.append(Spacer(1, 0.1 * inch))\n",
    "content.append(Paragraph(\"<<linear_regression.joblib>>\", style_normal))\n",
    "content.append(Spacer(1, 0.2 * inch))\n",
    "content.append(Paragraph(\"The app listens on port 5000 and has an endpoint `/predict`.\", style_normal))\n",
    "content.append(Spacer(1, 0.5 * inch))"
   ]
  },
  {
   "cell_type": "code",
   "execution_count": 486,
   "id": "477cc53d",
   "metadata": {},
   "outputs": [],
   "source": [
    "# Define file paths for snapshots\n",
    "snapshot1_path = \"C:/Users/ejot9/Flask App/Step 1.jpg\"\n",
    "snapshot2_path = \"C:/Users/ejot9/Flask App/Step 2.jpg\"\n",
    "snapshot3_path = \"C:/Users/ejot9/Flask App/Step 3.jpg\""
   ]
  },
  {
   "cell_type": "code",
   "execution_count": 487,
   "id": "4a09a514",
   "metadata": {},
   "outputs": [],
   "source": [
    "# Add snapshots to content list\n",
    "content.append(Spacer(1, 3.0 * inch))\n",
    "content.append(Paragraph(\"Snapshot 1:\", style_normal))\n",
    "content.append(Image(snapshot1_path, width=6*inch, height=4*inch))\n",
    "content.append(Spacer(1, 3.0 * inch))\n",
    "content.append(Paragraph(\"Snapshot 2:\", style_normal))\n",
    "content.append(Image(snapshot2_path, width=6*inch, height=4*inch))\n",
    "content.append(Spacer(1, 3.0 * inch))\n",
    "content.append(Paragraph(\"Snapshot 3:\", style_normal))\n",
    "content.append(Image(snapshot3_path, width=6*inch, height=4*inch))"
   ]
  },
  {
   "cell_type": "code",
   "execution_count": 488,
   "id": "aed55a59",
   "metadata": {},
   "outputs": [],
   "source": [
    "# Create PDF document\n",
    "doc = SimpleDocTemplate(\"deployment_report.pdf\", pagesize=letter)"
   ]
  },
  {
   "cell_type": "code",
   "execution_count": 489,
   "id": "76f87865",
   "metadata": {},
   "outputs": [],
   "source": [
    "# Add content to PDF\n",
    "doc.build(content)"
   ]
  },
  {
   "cell_type": "code",
   "execution_count": null,
   "id": "290adc3e",
   "metadata": {},
   "outputs": [],
   "source": []
  }
 ],
 "metadata": {
  "kernelspec": {
   "display_name": "Python 3 (ipykernel)",
   "language": "python",
   "name": "python3"
  },
  "language_info": {
   "codemirror_mode": {
    "name": "ipython",
    "version": 3
   },
   "file_extension": ".py",
   "mimetype": "text/x-python",
   "name": "python",
   "nbconvert_exporter": "python",
   "pygments_lexer": "ipython3",
   "version": "3.9.13"
  }
 },
 "nbformat": 4,
 "nbformat_minor": 5
}
